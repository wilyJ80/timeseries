{
  "cells": [
    {
      "cell_type": "code",
      "execution_count": null,
      "metadata": {
        "colab": {
          "base_uri": "https://localhost:8080/"
        },
        "id": "36j_pDdCHzlT",
        "outputId": "44cb3486-8770-429c-81cb-09a3cc796286",
        "vscode": {
          "languageId": "r"
        }
      },
      "outputs": [],
      "source": [
        "install.packages('tseries')"
      ]
    },
    {
      "cell_type": "markdown",
      "metadata": {},
      "source": [
        "### Dataset de vôos. Previsão de vôos cancelados"
      ]
    },
    {
      "cell_type": "markdown",
      "metadata": {
        "id": "-DRpcAG_IoN3"
      },
      "source": [
        "# Ler dados, grafico de dispersao"
      ]
    },
    {
      "cell_type": "code",
      "execution_count": null,
      "metadata": {
        "colab": {
          "base_uri": "https://localhost:8080/",
          "height": 454
        },
        "id": "mQp6x93vHo5M",
        "outputId": "f175df94-b055-499b-a566-fbf3957f3fa5",
        "vscode": {
          "languageId": "r"
        }
      },
      "outputs": [],
      "source": [
        "require (tseries)\n",
        "dados=read.table(\"baggagecomplaints.csv\",header=T,sep=\",\")\n",
        "# Ler data corretamente de acordo com formato\n",
        "dados$Date = as.Date(paste(\"01/\", dados$Date, sep = \"\"), format = \"%d/%m/%Y\")\n",
        "attach(dados)\n",
        "par(mfrow = c(2, 1))\n",
        "plot(dados$Date, dados$Cancelled, col=\"3\",xlab=\"Date\", ylab=\"Cancelled\")\n",
        "plot(dados$Date, dados$Cancelled, type=\"l\", col=\"3\",xlab=\"Date\", ylab=\"Cancelled\")"
      ]
    },
    {
      "cell_type": "markdown",
      "metadata": {
        "id": "Mf66FWFnJGMo"
      },
      "source": [
        "# Decomposicao STL\n",
        "- Sazonalidade: flutuações recorrentes e previsíveis em um dataset.\n",
        "- Tendência: direção a longo prazo.\n",
        "- Resíduos: correspondente a possíveis erros de medição ou eventos aleatórios."
      ]
    },
    {
      "cell_type": "code",
      "execution_count": null,
      "metadata": {
        "colab": {
          "base_uri": "https://localhost:8080/",
          "height": 857
        },
        "id": "OtRx70BQJIgy",
        "outputId": "b8aa7323-51c5-43ac-db8c-04496e7f28c2",
        "vscode": {
          "languageId": "r"
        }
      },
      "outputs": [],
      "source": [
        "# Ajuste com base nas datas iniciais e finais\n",
        "Sbag<-ts(Cancelled,frequency=12, start = c(min(Year), min(Month)), end = c(max(Year), max(Month)))\n",
        "# Sbag\n",
        "plot(Sbag)\n",
        "# log(Sbag)\n",
        "plot(stl(Sbag, s.window=\"periodic\"),main=\" Decomposição de vôos cancelados via Loess- f=12\")"
      ]
    },
    {
      "cell_type": "markdown",
      "metadata": {
        "id": "KjvUgcUOWyHc"
      },
      "source": [
        "# FAC/ACF: Função de Autocorrelação"
      ]
    },
    {
      "cell_type": "markdown",
      "metadata": {
        "id": "UnNtlV-_ZfpG"
      },
      "source": [
        "### Determinar valores de FAC\n",
        "- Identificar a necessidade de retirar a sazonalidade\n",
        "   - Por que retirar a sazonalidade? Método ARIMA supõe dados estacionários,\n",
        "   porque assim a média, variância e covariância são constantes."
      ]
    },
    {
      "cell_type": "code",
      "execution_count": null,
      "metadata": {
        "colab": {
          "base_uri": "https://localhost:8080/",
          "height": 437
        },
        "id": "qUFGeudCXWWE",
        "outputId": "ea5cf65c-8235-4443-cb34-6f819a680c21",
        "vscode": {
          "languageId": "r"
        }
      },
      "outputs": [],
      "source": [
        "par(mfrow=c(1,2))\n",
        "plot(Sbag,main='Cancelados ',xlab='Anos',ylab='Cancelados')\n",
        "acf (Sbag,xlab='defasagem',ylab='fac',main='',na.action=na.pass)"
      ]
    },
    {
      "cell_type": "markdown",
      "metadata": {
        "id": "HKRoIc7GcCjV"
      },
      "source": [
        "### Diferenciação\n",
        "- Remover sazonalidade (induzir estacionaridade) na série\n",
        "- Lag: deslocamento de valores a fim de aproximar valores passados de futuros,\n",
        "com o objetivo de facilitar a previsão."
      ]
    },
    {
      "cell_type": "code",
      "execution_count": null,
      "metadata": {
        "colab": {
          "base_uri": "https://localhost:8080/",
          "height": 857
        },
        "id": "Ny3RnhrYcLYo",
        "outputId": "5dd96d7d-efb1-45a4-dd49-2a1d2986461e",
        "vscode": {
          "languageId": "r"
        }
      },
      "outputs": [],
      "source": [
        "plot(diff(Sbag),main='Série Diferenciada (1)',xlab='Anos',ylab=' (Cancelled) ')\n",
        "min.m = acf(diff(Sbag),lag.max=36, plot=F, na.action=na.pass)\n",
        "min.m$lag = min.m$lag*12\n",
        "plot(min.m, main = 'Primeira Diferença', xlab='defasagem',ylab='fac')"
      ]
    },
    {
      "cell_type": "markdown",
      "metadata": {
        "id": "a1lCeESUcrIk"
      },
      "source": [
        "### Gráficos até agora"
      ]
    },
    {
      "cell_type": "code",
      "execution_count": null,
      "metadata": {
        "colab": {
          "base_uri": "https://localhost:8080/",
          "height": 437
        },
        "id": "DQkYpspHcqQ_",
        "outputId": "00c469f9-63e0-4fcc-f92a-045a29371ec1",
        "vscode": {
          "languageId": "r"
        }
      },
      "outputs": [],
      "source": [
        "par(mfrow=c(2,2))\n",
        "plot(Sbag,main='',xlab='Anos',ylab='Cancelled')\n",
        "acf (Sbag,xlab='defasagem',ylab='fac',main='',na.action=na.pass)\n",
        "plot(diff(Sbag),main='Série Diferenciada (1)',xlab='Anos',ylab=' Cancelled ')\n",
        "min.m = acf(diff(Sbag),lag.max=36, plot=F, na.action=na.pass)\n",
        "min.m$lag = min.m$lag*12\n",
        "plot(min.m, main = 'Primeira Diferença', xlab='defasagem',ylab='fac')"
      ]
    },
    {
      "cell_type": "markdown",
      "metadata": {
        "id": "vfI73LuKdODS"
      },
      "source": [
        "### Diferenciação simples e sazonal"
      ]
    },
    {
      "cell_type": "code",
      "execution_count": null,
      "metadata": {
        "colab": {
          "base_uri": "https://localhost:8080/",
          "height": 857
        },
        "id": "zBuni-jwdUi0",
        "outputId": "fc092aec-a6e8-4e5b-e245-fc9f072abf92",
        "vscode": {
          "languageId": "r"
        }
      },
      "outputs": [],
      "source": [
        "plot(diff(diff(Sbag),lag=12),main='Série 1 Diferenca Simples e 1 Sazonal',xlab='Anos',ylab=' Cancelled ')\n",
        "min.m = acf(diff(diff(Sbag),lag=12), lag.max=36, plot=F, na.action=na.pass)\n",
        "min.m$lag = min.m$lag*12\n",
        "plot(min.m, main='1 Diferença Simples e 1 Sazonal')"
      ]
    },
    {
      "cell_type": "markdown",
      "metadata": {
        "id": "Eng5r4Gpec0x"
      },
      "source": [
        "### Diferenciação Sazonal\n",
        "- ACF: Relação de uma série consigo mesma em lags diferentes. Picos são lags.\n",
        "- PACF: O mesmo, removendo os efeitos de lags anteriores."
      ]
    },
    {
      "cell_type": "code",
      "execution_count": null,
      "metadata": {
        "colab": {
          "base_uri": "https://localhost:8080/",
          "height": 437
        },
        "id": "C5o834x8eKNt",
        "outputId": "0acfdc34-0a9f-4316-f067-0e93469512a0",
        "vscode": {
          "languageId": "r"
        }
      },
      "outputs": [],
      "source": [
        "par(mfrow=c(2,2))\n",
        "plot(diff(diff(Sbag),lag=12),main='',xlab='Anos',ylab=' Cancelled ')\n",
        "min.m = acf(diff(diff(Sbag),lag=12), lag.max=36, plot=F, na.action=na.pass)\n",
        "min.m$lag = min.m$lag*12\n",
        "plot(min.m, main='')\n",
        "plot(diff(diff(Sbag),lag=12),main='',xlab='Anos',ylab='Cancelled')\n",
        "pmin.m = pacf(diff(diff(Sbag),lag=12), lag.max=36, plot=F, na.action=na.pass)\n",
        "pmin.m$lag = pmin.m$lag*12\n",
        "plot(pmin.m, main='')"
      ]
    },
    {
      "cell_type": "markdown",
      "metadata": {},
      "source": [
        "**Ambos ACF e PACF exibem picos nos primeiros lags: um modelo ARMA pode ser apropriado.**"
      ]
    },
    {
      "cell_type": "markdown",
      "metadata": {
        "id": "v4f7fAN5eyAG"
      },
      "source": [
        "- p: termo da parte autoregressiva\n",
        "   - Número de valores da FACP que estiverem acima do valor de confiança será considerado o valor máximo que **p** poderá atingir\n",
        "- q: ordem da parte de média móvel\n",
        "   - Número de valores da FAC que estiverem acima do seu intervalo de confiança.\n",
        "Considerado o valor máximo que **q** poderá atingir\n",
        "- d: número de diferenciações realizadas para estacionarizar os dados"
      ]
    },
    {
      "cell_type": "markdown",
      "metadata": {
        "id": "O0dLV3uxippd"
      },
      "source": [
        "# Modelo ARIMA"
      ]
    },
    {
      "cell_type": "code",
      "execution_count": null,
      "metadata": {
        "colab": {
          "base_uri": "https://localhost:8080/",
          "height": 231
        },
        "id": "n4i8lE1mirw-",
        "outputId": "a0a05390-aa6b-4987-be8b-43e98441b73f",
        "vscode": {
          "languageId": "r"
        }
      },
      "outputs": [],
      "source": [
        "m1 = arima(Sbag,order=c(1,1,1),include.mean=F)\n",
        "m1# determina para o modelo os coeficientes de p(AR) e q(Ma)"
      ]
    },
    {
      "cell_type": "markdown",
      "metadata": {
        "id": "xOuE6gHhi2PM"
      },
      "source": [
        "# Modelo SARIMA"
      ]
    },
    {
      "cell_type": "code",
      "execution_count": null,
      "metadata": {
        "colab": {
          "base_uri": "https://localhost:8080/",
          "height": 273
        },
        "id": "_uGsC9Rbi4dz",
        "outputId": "83911f60-082f-4d15-8b20-89100af0bc71",
        "vscode": {
          "languageId": "r"
        }
      },
      "outputs": [],
      "source": [
        "m2=arima(x = Sbag, order = c(1, 1, 1), seasonal = list(order = c(1, 1, 1)))\n",
        "m2# determina para o modelo os coeficientes de p(AR) e q(Ma) da parte sazonal"
      ]
    },
    {
      "cell_type": "markdown",
      "metadata": {
        "id": "asZeK2U1jA-f"
      },
      "source": [
        "# Diagnósticos"
      ]
    },
    {
      "cell_type": "code",
      "execution_count": null,
      "metadata": {
        "colab": {
          "base_uri": "https://localhost:8080/",
          "height": 857
        },
        "id": "b_XN7ViKjCtw",
        "outputId": "9a07548d-a80c-4f43-d1a7-ccae5c73d87e",
        "vscode": {
          "languageId": "r"
        }
      },
      "outputs": [],
      "source": [
        "tsdiag(m1)# diagnostico ARIMA\n",
        "tsdiag(m2)# diagnostico SARIMA"
      ]
    },
    {
      "cell_type": "markdown",
      "metadata": {
        "id": "r34hiwBHjJrr"
      },
      "source": [
        "# Análise dos resíduos após induzir estacionaridade"
      ]
    },
    {
      "cell_type": "markdown",
      "metadata": {
        "id": "QWsXK4OEjN8y"
      },
      "source": [
        "### ARIMA"
      ]
    },
    {
      "cell_type": "code",
      "execution_count": null,
      "metadata": {
        "colab": {
          "base_uri": "https://localhost:8080/",
          "height": 651
        },
        "id": "ku_-5ceqjPFc",
        "outputId": "a156338f-e1ec-4b61-e811-93b4ac2d799d",
        "vscode": {
          "languageId": "r"
        }
      },
      "outputs": [],
      "source": [
        "par(mfrow=c(2,1))\n",
        "z=m1$residuals\n",
        "hist(z,freq=F)\n",
        "d = seq(range(z)[1]-3*sd(z),range(z)[2]+3*sd(z),0.001)\n",
        "lines(d,dnorm(d,0,sd(z)))\n",
        "qqnorm(z)\n",
        "qqline(z)\n",
        "#Teste de normalidade Shapiro-Wilk\n",
        "shapiro.test(z)\n",
        "#The BoxPierce (and LjungBox)\n",
        "Box.test(m1$residuals,lag=1)# para ARIMA"
      ]
    },
    {
      "cell_type": "markdown",
      "metadata": {
        "id": "ON84LFP7jXKe"
      },
      "source": [
        "### SARIMA"
      ]
    },
    {
      "cell_type": "code",
      "execution_count": null,
      "metadata": {
        "colab": {
          "base_uri": "https://localhost:8080/",
          "height": 1000
        },
        "id": "NEeCpWuGjcRE",
        "outputId": "fa6e550a-7d96-4756-cc46-c944fa2923db",
        "vscode": {
          "languageId": "r"
        }
      },
      "outputs": [],
      "source": [
        "z1=m2$residuals\n",
        "hist(z1,freq=F)\n",
        "d1 = seq(range(z1)[1]-3*sd(z1),range(z1)[2]+3*sd(z1),0.001)\n",
        "lines(d1,dnorm(d1,0,sd(z)))\n",
        "qqnorm(z)\n",
        "qqline(z)\n",
        "#Teste de normalidade Shapiro-Wilk\n",
        "shapiro.test(z1)\n",
        "#Teste da idependencia dos residuos\n",
        "#The BoxPierce (and LjungBox)\n",
        "Box.test(m2$residuals,lag=1)# para SARIMA"
      ]
    },
    {
      "cell_type": "markdown",
      "metadata": {
        "id": "CMRdfQDdjmJC"
      },
      "source": [
        "# Previsões"
      ]
    },
    {
      "cell_type": "markdown",
      "metadata": {
        "id": "PTBX-ciNjpBG"
      },
      "source": [
        "### ARIMA"
      ]
    },
    {
      "cell_type": "markdown",
      "metadata": {},
      "source": [
        "- Data mínima escolhida foi a máxima da série, data máxima foi 10 anos depois"
      ]
    },
    {
      "cell_type": "code",
      "execution_count": null,
      "metadata": {
        "colab": {
          "base_uri": "https://localhost:8080/",
          "height": 437
        },
        "id": "yBhSDOudjqRq",
        "outputId": "01101d67-c7ce-4730-8d1d-cfff84fb7a7d",
        "vscode": {
          "languageId": "r"
        }
      },
      "outputs": [],
      "source": [
        "par(mfrow=c(2,1))\n",
        "plot(Sbag,main=\"Previsão cancelados. ar-ARIMA\", ylab=\"(Cancelled)\", xlim=c(max(Year),2020),ylim=c(min(Cancelled),max(Cancelled) + 40))\n",
        "pred1<-predict(m1,n.ahead=240)\n",
        "lines(pred1$pred,col=\"red\")\n",
        "lines(pred1$pred+2*pred1$se,col=\"red\",lty=3)\n",
        "lines(pred1$pred-2*pred1$se,col=\"red\",lty=3)"
      ]
    },
    {
      "cell_type": "markdown",
      "metadata": {},
      "source": [
        "- Linha sólida representa predições para datas futuras.\n",
        "- Linha tracejada representa incerteza na previsão.\n",
        "- Vê se que há a previsão de redução brusca em vôos cancelados e uma possível redução leve\n",
        "com o passar do tempo, mas a incerteza aumenta cada vez mais."
      ]
    },
    {
      "cell_type": "markdown",
      "metadata": {
        "id": "AXXuVERyj0yT"
      },
      "source": [
        "### SARIMA"
      ]
    },
    {
      "cell_type": "code",
      "execution_count": null,
      "metadata": {
        "colab": {
          "base_uri": "https://localhost:8080/",
          "height": 437
        },
        "id": "lx0fAQbRj18U",
        "outputId": "020d25fc-1331-43c4-ec5f-001f8d4586a8",
        "vscode": {
          "languageId": "r"
        }
      },
      "outputs": [],
      "source": [
        "plot(Sbag,main=\"Previsão cancelados-SARIMA\",ylab=\"(Cancelled)\", xlim=c(max(Year),2020),ylim=c(min(Cancelled),max(Cancelled) + 40))\n",
        "pred1<-predict(m2,n.ahead=240)\n",
        "lines(pred1$pred,col=\"blue\")\n",
        "lines(pred1$pred+2*pred1$se,col=\"blue\",lty=3)\n",
        "lines(pred1$pred-2*pred1$se,col=\"blue\",lty=3)"
      ]
    },
    {
      "cell_type": "markdown",
      "metadata": {
        "id": "Yj8XBdnTh1bb"
      },
      "source": [
        "Referências\n",
        "> https://arxiv.org/pdf/2009.05894"
      ]
    }
  ],
  "metadata": {
    "colab": {
      "provenance": []
    },
    "kernelspec": {
      "display_name": "R",
      "language": "R",
      "name": "ir"
    },
    "language_info": {
      "codemirror_mode": "r",
      "file_extension": ".r",
      "mimetype": "text/x-r-source",
      "name": "R",
      "pygments_lexer": "r",
      "version": "4.4.1"
    }
  },
  "nbformat": 4,
  "nbformat_minor": 0
}
